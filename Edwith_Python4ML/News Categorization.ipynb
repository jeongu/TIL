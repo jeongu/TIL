{
 "cells": [
  {
   "cell_type": "code",
   "execution_count": 2,
   "metadata": {
    "collapsed": true
   },
   "outputs": [],
   "source": [
    "import os\n",
    "\n",
    "def get_file_list(dir_name):\n",
    "    return os.listdir(dir_name)"
   ]
  },
  {
   "cell_type": "code",
   "execution_count": 3,
   "metadata": {
    "collapsed": false,
    "scrolled": true
   },
   "outputs": [
    {
     "name": "stdout",
     "output_type": "stream",
     "text": [
      "['news_data\\\\1_Dae-Ho Lee walk-off homer gives Mariners 4-2 win over Rangers.txt', 'news_data\\\\1_Korean First Baseman Dae-Ho Lee Becomes Free Agent, Interested In MLB Deal.txt', 'news_data\\\\1_Lee Dae-ho Announces MLB Aspirations.txt', 'news_data\\\\1_Lee Dae-ho to Start Spring Training in Arizona.txt', 'news_data\\\\1_Lee Dae-ho wins MVP in Japan Series.txt', \"news_data\\\\1_Mariners' Lee Dae-ho belts a walk-off homer.txt\", 'news_data\\\\1_Mariners’ Lee Dae-ho gets 1st two-hit game, double.txt', 'news_data\\\\1_MLB Team Interested In Dae-Ho Lee.txt', \"news_data\\\\1_Seattle Mariners' Newest Signing Dae-Ho Lee Could Become Fan Favorite.txt\", 'news_data\\\\1_SoftBank Hawks Hope to Renew Contract with Lee Dae-ho.txt', 'news_data\\\\2_Dodgers left with questions after latest Hyun-Jin Ryu setback.txt', 'news_data\\\\2_Dodgers left-hander Hyun-Jin Ryu expects to be ready for start of season.txt', 'news_data\\\\2_Dodgers unsure when Hyun-Jin Ryu will throw another bullpen session.txt', 'news_data\\\\2_Dodgers will take it slowly with pitcher Hyun-Jin Ryu, whose health could be a key to their season.txt', 'news_data\\\\2_Hyun-Jin Ryu downplays long break between bullpen sessions.txt', \"news_data\\\\2_Hyun-Jin Ryu's timetable starting to become clear.txt\", 'news_data\\\\2_Los Angeles Dodgers’ Hyun-Jin Ryu Experiencing Shoulder Discomfort.txt', 'news_data\\\\2_Ryu Hyun-jin appears before fans after 3-month hiatus for rehabilitation.txt', 'news_data\\\\2_Ryu Hyun-jin Rejoins Dodgers After Surgery.txt', 'news_data\\\\2_Ryu Hyun-jin suffers injury in groin, further delays return.txt', 'news_data\\\\3_Cleveland Indians interested in South Korean reliever Seung-hwan Oh.txt', 'news_data\\\\3_Free agent closer Seung-hwan Oh under investigation for gambling.txt', 'news_data\\\\3_Korean reliever Seung-hwan Oh has the best nickname for a closer.txt', 'news_data\\\\3_Lim Chang-yong, Oh Seung-hwan to be suspended from 50% of games even if they return.txt', 'news_data\\\\3_Oh Seung-hwan Could Lose Contract Over Gambling Scandal.txt', 'news_data\\\\3_Seung Hwan Oh Arrives Early To Cardinals Spring Training Camp.txt', 'news_data\\\\3_Seung-hwan Oh off to a great start.txt', 'news_data\\\\3_SEUNG-HWAN OH SHUTS DOWN TWINS IN FIRST SPRING ACTION.txt', 'news_data\\\\3_SEUNG-HWAN OH STRIKES OUT THE SIDE.txt', 'news_data\\\\3_SEUNG-HWAN OH TOSSES CLEAN INNING VERSUS BOSTON.txt', \"news_data\\\\4_Byung Ho Park went 1-for-4 with a solo homer in Saturday's 4-1 loss to the Tigers..txt\", 'news_data\\\\4_BYUNG-HO PARK SETTLING IN TO AMERICAN GAME.txt', \"news_data\\\\4_Byung-Ho Park Won't Fix The Minnesota Twins.txt\", \"news_data\\\\4_Byung-ho Park's homers are the best thing about the Twins so far.txt\", 'news_data\\\\4_Minnesota’s Park Byung-ho hits 7th homer of the season.txt', 'news_data\\\\4_Park Byung-ho hits large homer on ‘Park Byung-ho Day’.txt', 'news_data\\\\4_Park remains on bench as Twins face Gonzalez and the Nats.txt', \"news_data\\\\4_Twins' Park Byung-ho hits first big league triple.txt\", \"news_data\\\\4_Twins' slugger Byung Ho Park adapts to high heat.txt\", 'news_data\\\\4_Twins’ Byung Ho Park Still Getting Accustomed To American Life.txt', 'news_data\\\\5_ S. Korea look well-positioned to qualify for 2018 World Cup.txt', 'news_data\\\\5_Augsburg midfielder Koo Ja-cheol scores 3 hat tricks at home game.txt', 'news_data\\\\5_Augsburg vs Stuttgart Bundesliga Match Preview and Kick-Off Time.txt', 'news_data\\\\5_Follow the action live as Augsburg welcome the visit of Stuttgart on Saturday.txt', \"news_data\\\\5_Injured midfielder likely to miss nat'l team friendlies.txt\", 'news_data\\\\5_Koo Ja-cheol Nets a Hat Trick for Augsburg.txt', 'news_data\\\\5_Korean Footballers in Europe Struggle for Match Time.txt', 'news_data\\\\5_S. Korean MF Koo Ja-cheol suspended for next World Cup qualifier.txt', 'news_data\\\\5_South Korean Footballer Koo Ja Cheol Returns To Augsburg, Says He Has the ‘Feeling of Coming Home’.txt', \"news_data\\\\5_Stielike warns it won't be easy for Euro-stars.txt\", 'news_data\\\\6_AFC 2018 World Cup Qualifying South Korea vs Lebanon, Preview, Prediction & Predicted Lineup.txt', 'news_data\\\\6_Borussia Dortmund sign Korea defender Park Joo-ho from Mainz.txt', 'news_data\\\\6_Borussia Dortmund vs. Wolfsburg Team News, Preview, Live Stream, TV Info.txt', 'news_data\\\\6_BVB has initially without full-back Joo-Ho Park.txt', 'news_data\\\\6_International South Korean Joo Ho Park, is committed to Borussia Dortmund on Saturday..txt', 'news_data\\\\6_Joo-Ho Park poor for Borussia Dortmund in loss at Cologne.txt', \"news_data\\\\6_Mkhitaryan, Hummels perfect 10s in Dortmund's win at Gladbach.txt\", \"news_data\\\\6_Park Joo-ho delivers top performance in Dortmund's late Europa victory.txt\", 'news_data\\\\6_Son Heung-min, Park Joo-ho Set to Start for New Clubs.txt', 'news_data\\\\6_Thomas Tuchel mulls Park Joo-ho dilemma on Borussia Dortmund`s record run.txt', 'news_data\\\\7_Ki Sung-Yueng back in Swansea City fold as Garry Monk targets victory over benchmark club Everton.txt', 'news_data\\\\7_Ki Sung-yueng Scores 2nd Goal for Swansea in 4 Months.txt', 'news_data\\\\7_Ki Sung-yueng Stretchered Off Pitch with Head Injury.txt', 'news_data\\\\7_Premier League 2015-2016 Swansea City vs Manchester City, Preview, Prediction & Predicted Lineup.txt', 'news_data\\\\7_Sung-yueng In Team Of The Week.txt', 'news_data\\\\7_Swansea City midfielder Ki Sung-Yueng demands immediate improvement.txt', 'news_data\\\\7_Swansea City midfielder Ki Sung-Yueng says confidence will not be dented by Arsenal defeat.txt', 'news_data\\\\7_Swansea City midfielder Ki Sung-Yueng wary of Arsenal threat.txt', 'news_data\\\\7_Swansea City midfielder Ki Sung-Yueng will miss Crystal Palace clash.txt', 'news_data\\\\7_Swansea win the perfect tonic for weary Sunderland.txt', 'news_data\\\\8_Has Heung Min Son Done Enough to Justify 22m Transfer.txt', 'news_data\\\\8_Heung min Son Believes Injury Tainted Debut at Tottenham.txt', \"news_data\\\\8_Heung Min Son doubles Tottenham's lead over Chelsea.txt\", 'news_data\\\\8_Heung Min Son gives Tottenham a two-goal advantage vs Chelsea.txt', \"news_data\\\\8_Heung Min Son prefers Tottenham's busy fixture list to winter break.txt\", 'news_data\\\\8_South Korea are waiting to hear if Tottenham will clear Son Heung-min for the Olympics, according to the forward..txt', \"news_data\\\\8_South Korea coach has a warning for Tottenham Hotspur's Heung-min Son and fellow internationals, suggests they should consider exits.txt\", 'news_data\\\\8_Top five matchups in 2018 AFC World Cup final round qualification.txt', 'news_data\\\\8_Tottenham vs Southampton player ratings Heung-min Son shines but Ryan Mason disappoints.txt', \"news_data\\\\8_Who Should Be Tottenham Hotspur's No. 1 Summer Transfer Target.txt\"]\n"
     ]
    }
   ],
   "source": [
    "if __name__ == \"__main__\":\n",
    "    dir_name = \"news_data\"\n",
    "    file_list = get_file_list(dir_name)\n",
    "    file_list = [os.path.join(dir_name, file_name) for file_name in file_list]\n",
    "    print(file_list)"
   ]
  },
  {
   "cell_type": "code",
   "execution_count": null,
   "metadata": {
    "collapsed": true
   },
   "outputs": [],
   "source": []
  },
  {
   "cell_type": "code",
   "execution_count": null,
   "metadata": {
    "collapsed": true
   },
   "outputs": [],
   "source": []
  },
  {
   "cell_type": "code",
   "execution_count": null,
   "metadata": {
    "collapsed": true
   },
   "outputs": [],
   "source": []
  }
 ],
 "metadata": {
  "kernelspec": {
   "display_name": "Python 3",
   "language": "python",
   "name": "python3"
  },
  "language_info": {
   "codemirror_mode": {
    "name": "ipython",
    "version": 3
   },
   "file_extension": ".py",
   "mimetype": "text/x-python",
   "name": "python",
   "nbconvert_exporter": "python",
   "pygments_lexer": "ipython3",
   "version": "3.6.0"
  }
 },
 "nbformat": 4,
 "nbformat_minor": 2
}
