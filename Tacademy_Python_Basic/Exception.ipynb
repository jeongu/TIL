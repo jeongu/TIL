{
 "cells": [
  {
   "cell_type": "markdown",
   "metadata": {},
   "source": [
    "## 내장 예외"
   ]
  },
  {
   "cell_type": "markdown",
   "metadata": {},
   "source": [
    "### try ~ except"
   ]
  },
  {
   "cell_type": "code",
   "execution_count": 1,
   "metadata": {},
   "outputs": [],
   "source": [
    "def divide(a, b):\n",
    "    return a / b"
   ]
  },
  {
   "cell_type": "code",
   "execution_count": 3,
   "metadata": {},
   "outputs": [
    {
     "name": "stdout",
     "output_type": "stream",
     "text": [
      "모든 인수는 숫자이여야 합니다.\n",
      "에러:  unsupported operand type(s) for /: 'int' and 'str'\n",
      "항상 수행됩니다.\n"
     ]
    }
   ],
   "source": [
    "try:\n",
    "    c = divide(5, 'string')\n",
    "except ZeroDivisionError:\n",
    "    print('두번째 인자는 0이면 안됩니다.')\n",
    "except TypeError as e: # 예외 인스턴스 객체를 할당받기\n",
    "    print('모든 인수는 숫자이여야 합니다.')\n",
    "    print('에러: ', e.args[0])\n",
    "except:\n",
    "    print('ZeroDivisionError, TypeError를 제외한 다른 에러')\n",
    "else: # 예외가 발생하지 않는 경우\n",
    "    print('Result: {0}'.format(c))\n",
    "finally:\n",
    "    print('항상 수행됩니다.')"
   ]
  },
  {
   "cell_type": "code",
   "execution_count": 4,
   "metadata": {},
   "outputs": [
    {
     "name": "stdout",
     "output_type": "stream",
     "text": [
      "수치 연산 관련 에러입니다.\n"
     ]
    }
   ],
   "source": [
    "try:\n",
    "    c = divide(5, 0)\n",
    "except (ZeroDivisionError, OverflowError, FloatingPointError):\n",
    "    # 명시된 에러를 모두 처리\n",
    "    print('수치 연산 관련 에러입니다.')\n",
    "except TypeError:\n",
    "    print('모든 인수는 숫자이여야 합니다.')\n",
    "except Exception:\n",
    "    print('무슨 에러인지 모르겠어요')"
   ]
  },
  {
   "cell_type": "code",
   "execution_count": 5,
   "metadata": {},
   "outputs": [
    {
     "name": "stdout",
     "output_type": "stream",
     "text": [
      "수치 연산 관련 에러입니다.\n"
     ]
    }
   ],
   "source": [
    "try:\n",
    "    c = divide(5, 0)\n",
    "except ArithmeticError:\n",
    "    # 상위 클래스로 처리하면 하위 모든 클래스가 처리된다.\n",
    "    print('수치 연산 관련 에러입니다.')\n",
    "except TypeError:\n",
    "    print('모든 인수는 숫자이여야 합니다.')\n",
    "except Exception:\n",
    "    print('무슨 에러인지 모르겠어요')"
   ]
  },
  {
   "cell_type": "code",
   "execution_count": null,
   "metadata": {},
   "outputs": [],
   "source": [
    "FilePath = './test.txt'"
   ]
  },
  {
   "cell_type": "code",
   "execution_count": null,
   "metadata": {},
   "outputs": [],
   "source": [
    "try:\n",
    "    f = open(FilePath, 'r')\n",
    "    try:\n",
    "        data = f.read(128)\n",
    "        print(data)\n",
    "    finally:\n",
    "        f.close()\n",
    "except IOError:\n",
    "    print(\"Fail to open {0} file\".format(FilePath))"
   ]
  },
  {
   "cell_type": "markdown",
   "metadata": {},
   "source": [
    "## 사용자 정의 예외"
   ]
  },
  {
   "cell_type": "markdown",
   "metadata": {},
   "source": [
    "### raise"
   ]
  },
  {
   "cell_type": "code",
   "execution_count": 6,
   "metadata": {},
   "outputs": [],
   "source": [
    "def RaiseErrorFunc():\n",
    "    raise NameError # 내장 예외인 NameError 발생"
   ]
  },
  {
   "cell_type": "code",
   "execution_count": 7,
   "metadata": {},
   "outputs": [
    {
     "name": "stdout",
     "output_type": "stream",
     "text": [
      "NameError is Catched\n"
     ]
    }
   ],
   "source": [
    "try:\n",
    "    RaiseErrorFunc()\n",
    "except:\n",
    "    print(\"NameError is Catched\")        "
   ]
  },
  {
   "cell_type": "code",
   "execution_count": 8,
   "metadata": {},
   "outputs": [],
   "source": [
    "class NegativeDivisionError(Exception):\n",
    "    def __init__(self, value):\n",
    "        self.value = value"
   ]
  },
  {
   "cell_type": "code",
   "execution_count": null,
   "metadata": {},
   "outputs": [],
   "source": [
    "def PositiveDivide(a, b)"
   ]
  },
  {
   "cell_type": "code",
   "execution_count": null,
   "metadata": {},
   "outputs": [],
   "source": []
  },
  {
   "cell_type": "code",
   "execution_count": null,
   "metadata": {},
   "outputs": [],
   "source": []
  }
 ],
 "metadata": {
  "kernelspec": {
   "display_name": "Python 3",
   "language": "python",
   "name": "python3"
  },
  "language_info": {
   "codemirror_mode": {
    "name": "ipython",
    "version": 3
   },
   "file_extension": ".py",
   "mimetype": "text/x-python",
   "name": "python",
   "nbconvert_exporter": "python",
   "pygments_lexer": "ipython3",
   "version": "3.6.0"
  }
 },
 "nbformat": 4,
 "nbformat_minor": 2
}
