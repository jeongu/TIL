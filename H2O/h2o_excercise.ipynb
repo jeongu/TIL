{
 "cells": [
  {
   "cell_type": "markdown",
   "metadata": {},
   "source": [
    "### import"
   ]
  },
  {
   "cell_type": "code",
   "execution_count": null,
   "metadata": {},
   "outputs": [],
   "source": [
    "install.packages(\"h2o\")\n",
    "require(\"h2o\")"
   ]
  },
  {
   "cell_type": "code",
   "execution_count": 5,
   "metadata": {
    "scrolled": true
   },
   "outputs": [
    {
     "name": "stdout",
     "output_type": "stream",
     "text": [
      "\n",
      "H2O is not running yet, starting it now...\n",
      "\n",
      "Note:  In case of errors look at the following log files:\n",
      "    C:\\Users\\user\\AppData\\Local\\Temp\\RtmpwnH2qS/h2o_user_started_from_r.out\n",
      "    C:\\Users\\user\\AppData\\Local\\Temp\\RtmpwnH2qS/h2o_user_started_from_r.err\n",
      "\n",
      "\n",
      "Starting H2O JVM and connecting: .. Connection successful!\n",
      "\n",
      "R is connected to the H2O cluster: \n",
      "    H2O cluster uptime:         9 seconds 551 milliseconds \n",
      "    H2O cluster version:        3.10.5.3 \n",
      "    H2O cluster version age:    1 year and 16 days !!! \n",
      "    H2O cluster name:           H2O_started_from_R_user_uan385 \n",
      "    H2O cluster total nodes:    1 \n",
      "    H2O cluster total memory:   7.11 GB \n",
      "    H2O cluster total cores:    4 \n",
      "    H2O cluster allowed cores:  3 \n",
      "    H2O cluster healthy:        TRUE \n",
      "    H2O Connection ip:          localhost \n",
      "    H2O Connection port:        54321 \n",
      "    H2O Connection proxy:       NA \n",
      "    H2O Internal Security:      FALSE \n",
      "    R Version:                  R version 3.4.3 (2017-11-30) \n"
     ]
    },
    {
     "name": "stderr",
     "output_type": "stream",
     "text": [
      "Warning message in h2o.clusterInfo():\n",
      "\"\n",
      "Your H2O cluster version is too old (1 year and 16 days)!\n",
      "Please download and install the latest version from http://h2o.ai/download/\""
     ]
    },
    {
     "name": "stdout",
     "output_type": "stream",
     "text": [
      "\n"
     ]
    }
   ],
   "source": [
    "h2o.init(nthreads = 3, max_mem_size = \"8g\")"
   ]
  },
  {
   "cell_type": "markdown",
   "metadata": {},
   "source": [
    "### 내장 dataset 사용"
   ]
  },
  {
   "cell_type": "code",
   "execution_count": 6,
   "metadata": {},
   "outputs": [
    {
     "name": "stdout",
     "output_type": "stream",
     "text": [
      "  |======================================================================| 100%\n"
     ]
    }
   ],
   "source": [
    "data(iris)\n",
    "iris_h2o <- as.h2o(iris, destination_frame = \"iris_h2o\")"
   ]
  },
  {
   "cell_type": "code",
   "execution_count": 7,
   "metadata": {},
   "outputs": [
    {
     "data": {
      "text/html": [
       "<table>\n",
       "<thead><tr><th scope=col>key</th></tr></thead>\n",
       "<tbody>\n",
       "\t<tr><td>iris_h2o</td></tr>\n",
       "</tbody>\n",
       "</table>\n"
      ],
      "text/latex": [
       "\\begin{tabular}{r|l}\n",
       " key\\\\\n",
       "\\hline\n",
       "\t iris\\_h2o\\\\\n",
       "\\end{tabular}\n"
      ],
      "text/markdown": [
       "\n",
       "key | \n",
       "|---|\n",
       "| iris_h2o | \n",
       "\n",
       "\n"
      ],
      "text/plain": [
       "  key     \n",
       "1 iris_h2o"
      ]
     },
     "metadata": {},
     "output_type": "display_data"
    }
   ],
   "source": [
    "h2o.ls()"
   ]
  },
  {
   "cell_type": "code",
   "execution_count": 8,
   "metadata": {},
   "outputs": [
    {
     "data": {
      "text/html": [
       "'H2OFrame'"
      ],
      "text/latex": [
       "'H2OFrame'"
      ],
      "text/markdown": [
       "'H2OFrame'"
      ],
      "text/plain": [
       "[1] \"H2OFrame\""
      ]
     },
     "metadata": {},
     "output_type": "display_data"
    }
   ],
   "source": [
    "class(iris_h2o)"
   ]
  },
  {
   "cell_type": "code",
   "execution_count": 9,
   "metadata": {},
   "outputs": [
    {
     "name": "stdout",
     "output_type": "stream",
     "text": [
      "Class 'H2OFrame' <environment: 0x000000003fc4ae90> \n",
      " - attr(*, \"op\")= chr \"Parse\"\n",
      " - attr(*, \"id\")= chr \"iris_h2o\"\n",
      " - attr(*, \"eval\")= logi FALSE\n",
      " - attr(*, \"nrow\")= int 150\n",
      " - attr(*, \"ncol\")= int 5\n",
      " - attr(*, \"types\")=List of 5\n",
      "  ..$ : chr \"real\"\n",
      "  ..$ : chr \"real\"\n",
      "  ..$ : chr \"real\"\n",
      "  ..$ : chr \"real\"\n",
      "  ..$ : chr \"enum\"\n",
      " - attr(*, \"data\")='data.frame':\t10 obs. of  5 variables:\n",
      "  ..$ Sepal.Length: num  5.1 4.9 4.7 4.6 5 5.4 4.6 5 4.4 4.9\n",
      "  ..$ Sepal.Width : num  3.5 3 3.2 3.1 3.6 3.9 3.4 3.4 2.9 3.1\n",
      "  ..$ Petal.Length: num  1.4 1.4 1.3 1.5 1.4 1.7 1.4 1.5 1.4 1.5\n",
      "  ..$ Petal.Width : num  0.2 0.2 0.2 0.2 0.2 0.4 0.3 0.2 0.2 0.1\n",
      "  ..$ Species     : Factor w/ 3 levels \"setosa\",\"versicolor\",..: 1 1 1 1 1 1 1 1 1 1\n"
     ]
    }
   ],
   "source": [
    "str(iris_h2o)"
   ]
  },
  {
   "cell_type": "markdown",
   "metadata": {},
   "source": [
    "### csv로 불러오기"
   ]
  },
  {
   "cell_type": "code",
   "execution_count": 10,
   "metadata": {},
   "outputs": [],
   "source": [
    "irisPath <- system.file(\"extdata\", \"prostate_folder\", package = \"h2o\")"
   ]
  },
  {
   "cell_type": "code",
   "execution_count": 11,
   "metadata": {},
   "outputs": [
    {
     "name": "stdout",
     "output_type": "stream",
     "text": [
      "  |======================================================================| 100%\n"
     ]
    }
   ],
   "source": [
    "iris_h2o_imp <- h2o.importFile(irisPath, destination_frame = \"iris_h2o_imp\")"
   ]
  },
  {
   "cell_type": "code",
   "execution_count": 12,
   "metadata": {},
   "outputs": [
    {
     "data": {
      "text/html": [
       "<table>\n",
       "<thead><tr><th scope=col>key</th></tr></thead>\n",
       "<tbody>\n",
       "\t<tr><td>iris_h2o    </td></tr>\n",
       "\t<tr><td>iris_h2o_imp</td></tr>\n",
       "</tbody>\n",
       "</table>\n"
      ],
      "text/latex": [
       "\\begin{tabular}{r|l}\n",
       " key\\\\\n",
       "\\hline\n",
       "\t iris\\_h2o    \\\\\n",
       "\t iris\\_h2o\\_imp\\\\\n",
       "\\end{tabular}\n"
      ],
      "text/markdown": [
       "\n",
       "key | \n",
       "|---|---|\n",
       "| iris_h2o     | \n",
       "| iris_h2o_imp | \n",
       "\n",
       "\n"
      ],
      "text/plain": [
       "  key         \n",
       "1 iris_h2o    \n",
       "2 iris_h2o_imp"
      ]
     },
     "metadata": {},
     "output_type": "display_data"
    }
   ],
   "source": [
    "h2o.ls()"
   ]
  },
  {
   "cell_type": "markdown",
   "metadata": {},
   "source": [
    "### dataset 나누기"
   ]
  },
  {
   "cell_type": "code",
   "execution_count": 13,
   "metadata": {},
   "outputs": [],
   "source": [
    "set.seed(1234)\n",
    "train_idx <- sample(1:nrow(iris), size = 0.7 * nrow(iris), replace = FALSE)\n",
    "train_iris <- iris[train_idx, ]\n",
    "test_iris <- iris[-train_idx, ]"
   ]
  },
  {
   "cell_type": "code",
   "execution_count": 14,
   "metadata": {},
   "outputs": [
    {
     "data": {
      "text/plain": [
       "Species\n",
       "    setosa versicolor  virginica \n",
       " 0.3714286  0.2761905  0.3523810 "
      ]
     },
     "metadata": {},
     "output_type": "display_data"
    }
   ],
   "source": [
    "with(train_iris, prop.table(table(Species)))"
   ]
  },
  {
   "cell_type": "code",
   "execution_count": 15,
   "metadata": {},
   "outputs": [
    {
     "data": {
      "text/plain": [
       "Species\n",
       "    setosa versicolor  virginica \n",
       " 0.2444444  0.4666667  0.2888889 "
      ]
     },
     "metadata": {},
     "output_type": "display_data"
    }
   ],
   "source": [
    "with(test_iris, prop.table(table(Species)))"
   ]
  },
  {
   "cell_type": "code",
   "execution_count": 16,
   "metadata": {},
   "outputs": [
    {
     "name": "stdout",
     "output_type": "stream",
     "text": [
      "  |======================================================================| 100%\n",
      "  |======================================================================| 100%\n"
     ]
    }
   ],
   "source": [
    "train_iris_h2o <- as.h2o(train_iris, \"train_iris_h2o\")\n",
    "test_iris_h2o <- as.h2o(test_iris, \"test_iris_h2o\")"
   ]
  },
  {
   "cell_type": "code",
   "execution_count": 17,
   "metadata": {},
   "outputs": [],
   "source": [
    "target <- \"Species\"\n",
    "features <- names(train_iris)[!names(train_iris) %in% target]"
   ]
  },
  {
   "cell_type": "markdown",
   "metadata": {},
   "source": [
    "### model"
   ]
  },
  {
   "cell_type": "code",
   "execution_count": 18,
   "metadata": {},
   "outputs": [
    {
     "name": "stdout",
     "output_type": "stream",
     "text": [
      "  |======================================================================| 100%\n",
      "Model Details:\n",
      "==============\n",
      "\n",
      "H2OMultinomialModel: glm\n",
      "Model Key:  glm_model \n",
      "GLM Model: summary\n",
      "       family        link                                regularization\n",
      "1 multinomial multinomial Elastic Net (alpha = 0.5, lambda = 9.091E-4 )\n",
      "  number_of_predictors_total number_of_active_predictors number_of_iterations\n",
      "1                         15                          11                   27\n",
      "  training_frame\n",
      "1 train_iris_h2o\n",
      "\n",
      "H2OMultinomialMetrics: glm\n",
      "** Reported on training data. **\n",
      "\n",
      "Training Set Metrics: \n",
      "=====================\n",
      "\n",
      "Extract training frame with `h2o.getFrame(\"train_iris_h2o\")`\n",
      "MSE: (Extract with `h2o.mse`) 0.0136285\n",
      "RMSE: (Extract with `h2o.rmse`) 0.1167412\n",
      "Logloss: (Extract with `h2o.logloss`) 0.05376167\n",
      "Mean Per-Class Error: 0.02050326\n",
      "Null Deviance: (Extract with `h2o.nulldeviance`) 229.0628\n",
      "Residual Deviance: (Extract with `h2o.residual_deviance`) 11.28995\n",
      "R^2: (Extract with `h2o.r2`) 0.9811617\n",
      "AIC: (Extract with `h2o.aic`) NaN\n",
      "Confusion Matrix: Extract with `h2o.confusionMatrix(<model>,train = TRUE)`)\n",
      "=========================================================================\n",
      "Confusion Matrix: Row labels: Actual class; Column labels: Predicted class\n",
      "           setosa versicolor virginica  Error      Rate\n",
      "setosa         39          0         0 0.0000 =  0 / 39\n",
      "versicolor      0         28         1 0.0345 =  1 / 29\n",
      "virginica       0          1        36 0.0270 =  1 / 37\n",
      "Totals         39         29        37 0.0190 = 2 / 105\n",
      "\n",
      "Hit Ratio Table: Extract with `h2o.hit_ratio_table(<model>,train = TRUE)`\n",
      "=======================================================================\n",
      "Top-3 Hit Ratios: \n",
      "  k hit_ratio\n",
      "1 1  0.980952\n",
      "2 2  1.000000\n",
      "3 3  1.000000\n",
      "\n",
      "\n",
      "\n",
      "\n",
      "\n",
      "Scoring History: \n",
      "            timestamp   duration iteration negative_log_likelihood objective\n",
      "1 2018-07-16 23:03:39  0.000 sec         0               114.53139   1.09078\n",
      "2 2018-07-16 23:03:39  0.114 sec         1                36.34931   0.35270\n",
      "3 2018-07-16 23:03:39  0.139 sec         2                18.91843   0.19200\n",
      "4 2018-07-16 23:03:39  0.176 sec         3                10.48414   0.11946\n",
      "5 2018-07-16 23:03:39  0.193 sec         4                 7.25499   0.09644\n",
      "\n",
      "---\n",
      "             timestamp   duration iteration negative_log_likelihood objective\n",
      "23 2018-07-16 23:03:39  0.522 sec        22                 5.64806   0.08774\n",
      "24 2018-07-16 23:03:40  0.614 sec        23                 5.64597   0.08773\n",
      "25 2018-07-16 23:03:40  0.628 sec        24                 5.64656   0.08771\n",
      "26 2018-07-16 23:03:40  0.642 sec        25                 5.64613   0.08770\n",
      "27 2018-07-16 23:03:40  0.652 sec        26                 5.64532   0.08769\n",
      "28 2018-07-16 23:03:40  0.667 sec        27                 5.64498   0.08768\n",
      "\n",
      "Variable Importances: (Extract with `h2o.varimp`) \n",
      "=================================================\n",
      "\n",
      "Standardized Coefficient Magnitudes: standardized coefficient magnitudes\n",
      "         names coefficients sign\n",
      "1 Petal.Length    10.224789  POS\n",
      "2  Petal.Width    10.100105  POS\n",
      "3  Sepal.Width     3.374344  POS\n",
      "4 Sepal.Length     2.011965  POS\n"
     ]
    }
   ],
   "source": [
    "glm_model <- h2o.glm(x = features, y = target, training_frame = train_iris_h2o, \n",
    "    model_id = \"glm_model\", family = \"multinomial\")\n",
    "\n",
    "summary(glm_model)"
   ]
  },
  {
   "cell_type": "code",
   "execution_count": null,
   "metadata": {},
   "outputs": [],
   "source": [
    "pred_iris_glm <- as.data.frame(h2o.predict(glm_model, newdata = test_iris_h2o))\n",
    "test_iris$pred_glm <- pred_iris_glm$predict\n",
    "with(test_iris, table(Species, pred_glm, dnn = c(\"Real\", \"Predict\")))"
   ]
  },
  {
   "cell_type": "code",
   "execution_count": null,
   "metadata": {},
   "outputs": [],
   "source": []
  },
  {
   "cell_type": "code",
   "execution_count": null,
   "metadata": {},
   "outputs": [],
   "source": []
  }
 ],
 "metadata": {
  "kernelspec": {
   "display_name": "R",
   "language": "R",
   "name": "ir"
  },
  "language_info": {
   "codemirror_mode": "r",
   "file_extension": ".r",
   "mimetype": "text/x-r-source",
   "name": "R",
   "pygments_lexer": "r",
   "version": "3.4.3"
  }
 },
 "nbformat": 4,
 "nbformat_minor": 2
}
