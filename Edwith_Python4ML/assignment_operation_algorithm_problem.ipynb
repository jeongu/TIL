{
 "cells": [
  {
   "cell_type": "markdown",
   "metadata": {},
   "source": [
    "### key idea\n",
    "* permutations 함수를 이용해서 모든 경우의 수를 계산한다,"
   ]
  },
  {
   "cell_type": "code",
   "execution_count": 2,
   "metadata": {},
   "outputs": [],
   "source": [
    "import itertools\n",
    "from functools import reduce"
   ]
  },
  {
   "cell_type": "code",
   "execution_count": 18,
   "metadata": {},
   "outputs": [],
   "source": [
    "def insert_operation(length, input_num, input_oper):\n",
    "    \n",
    "    ops = {\"0\": (lambda x, y: x+y), \"1\": (lambda x, y: x-y), \"2\": (lambda x, y: x*y), \"3\": (lambda x, y: x/y)}\n",
    "    oper_permutation = []\n",
    "    result = []\n",
    "    [oper_permutation.extend([str(index)]*value) for index, value in enumerate(input_oper) if value>0]\n",
    "    permutation = [list(x) for x in set(itertools.permutations(oper_permutation))]\n",
    "    \n",
    "    for i in permutation:\n",
    "        result.append(reduce(lambda x, y: ops[i.pop()](x,y), input_num))\n",
    "        \n",
    "    print(str(max(result))+\"\\n\"+str(min(result)))"
   ]
  },
  {
   "cell_type": "code",
   "execution_count": 19,
   "metadata": {},
   "outputs": [
    {
     "name": "stdout",
     "output_type": "stream",
     "text": [
      "52.0\n",
      "-21.0\n"
     ]
    }
   ],
   "source": [
    "n = 6\n",
    "number = [1,2,3,4,5,6]\n",
    "arithmetics = [2,1,1,1]\n",
    "insert_operation(n, number, arithmetics)"
   ]
  }
 ],
 "metadata": {
  "kernelspec": {
   "display_name": "Python 3",
   "language": "python",
   "name": "python3"
  },
  "language_info": {
   "codemirror_mode": {
    "name": "ipython",
    "version": 3
   },
   "file_extension": ".py",
   "mimetype": "text/x-python",
   "name": "python",
   "nbconvert_exporter": "python",
   "pygments_lexer": "ipython3",
   "version": "3.6.0"
  }
 },
 "nbformat": 4,
 "nbformat_minor": 2
}
