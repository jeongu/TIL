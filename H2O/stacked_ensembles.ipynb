{
 "cells": [
  {
   "cell_type": "markdown",
   "metadata": {},
   "source": [
    "### Import"
   ]
  },
  {
   "cell_type": "code",
   "execution_count": 1,
   "metadata": {},
   "outputs": [
    {
     "name": "stdout",
     "output_type": "stream",
     "text": [
      "Checking whether there is an H2O instance running at http://localhost:54321..... not found.\n",
      "Attempting to start a local H2O server...\n",
      "; Java HotSpot(TM) 64-Bit Server VM (build 25.101-b13, mixed mode)\n",
      "  Starting server from C:\\Users\\user\\Anaconda3\\lib\\site-packages\\h2o\\backend\\bin\\h2o.jar\n",
      "  Ice root: C:\\Users\\user\\AppData\\Local\\Temp\\tmp1a45ubi0\n",
      "  JVM stdout: C:\\Users\\user\\AppData\\Local\\Temp\\tmp1a45ubi0\\h2o_user_started_from_python.out\n",
      "  JVM stderr: C:\\Users\\user\\AppData\\Local\\Temp\\tmp1a45ubi0\\h2o_user_started_from_python.err\n",
      "  Server is running at http://127.0.0.1:54321\n",
      "Connecting to H2O server at http://127.0.0.1:54321... successful.\n"
     ]
    },
    {
     "data": {
      "text/html": [
       "<div style=\"overflow:auto\"><table style=\"width:50%\"><tr><td>H2O cluster uptime:</td>\n",
       "<td>05 secs</td></tr>\n",
       "<tr><td>H2O cluster timezone:</td>\n",
       "<td>Asia/Seoul</td></tr>\n",
       "<tr><td>H2O data parsing timezone:</td>\n",
       "<td>UTC</td></tr>\n",
       "<tr><td>H2O cluster version:</td>\n",
       "<td>3.20.0.4</td></tr>\n",
       "<tr><td>H2O cluster version age:</td>\n",
       "<td>8 days </td></tr>\n",
       "<tr><td>H2O cluster name:</td>\n",
       "<td>H2O_from_python_user_44dhrs</td></tr>\n",
       "<tr><td>H2O cluster total nodes:</td>\n",
       "<td>1</td></tr>\n",
       "<tr><td>H2O cluster free memory:</td>\n",
       "<td>1.761 Gb</td></tr>\n",
       "<tr><td>H2O cluster total cores:</td>\n",
       "<td>4</td></tr>\n",
       "<tr><td>H2O cluster allowed cores:</td>\n",
       "<td>4</td></tr>\n",
       "<tr><td>H2O cluster status:</td>\n",
       "<td>accepting new members, healthy</td></tr>\n",
       "<tr><td>H2O connection url:</td>\n",
       "<td>http://127.0.0.1:54321</td></tr>\n",
       "<tr><td>H2O connection proxy:</td>\n",
       "<td>None</td></tr>\n",
       "<tr><td>H2O internal security:</td>\n",
       "<td>False</td></tr>\n",
       "<tr><td>H2O API Extensions:</td>\n",
       "<td>Algos, AutoML, Core V3, Core V4</td></tr>\n",
       "<tr><td>Python version:</td>\n",
       "<td>3.6.6 final</td></tr></table></div>"
      ],
      "text/plain": [
       "--------------------------  -------------------------------\n",
       "H2O cluster uptime:         05 secs\n",
       "H2O cluster timezone:       Asia/Seoul\n",
       "H2O data parsing timezone:  UTC\n",
       "H2O cluster version:        3.20.0.4\n",
       "H2O cluster version age:    8 days\n",
       "H2O cluster name:           H2O_from_python_user_44dhrs\n",
       "H2O cluster total nodes:    1\n",
       "H2O cluster free memory:    1.761 Gb\n",
       "H2O cluster total cores:    4\n",
       "H2O cluster allowed cores:  4\n",
       "H2O cluster status:         accepting new members, healthy\n",
       "H2O connection url:         http://127.0.0.1:54321\n",
       "H2O connection proxy:\n",
       "H2O internal security:      False\n",
       "H2O API Extensions:         Algos, AutoML, Core V3, Core V4\n",
       "Python version:             3.6.6 final\n",
       "--------------------------  -------------------------------"
      ]
     },
     "metadata": {},
     "output_type": "display_data"
    }
   ],
   "source": [
    "import h2o\n",
    "from h2o.estimators.random_forest import H2ORandomForestEstimator\n",
    "from h2o.estimators.gbm import H2OGradientBoostingEstimator\n",
    "from h2o.estimators.stackedensemble import H2OStackedEnsembleEstimator\n",
    "from h2o.grid.grid_search import H2OGridSearch\n",
    "from __future__ import print_function\n",
    "h2o.init()"
   ]
  },
  {
   "cell_type": "code",
   "execution_count": 2,
   "metadata": {},
   "outputs": [
    {
     "name": "stdout",
     "output_type": "stream",
     "text": [
      "Parse progress: |█████████████████████████████████████████████████████████| 100%\n",
      "Parse progress: |█████████████████████████████████████████████████████████| 100%\n"
     ]
    }
   ],
   "source": [
    "# binary outcome sample\n",
    "train = h2o.import_file(\"https://s3.amazonaws.com/erin-data/higgs/higgs_train_10k.csv\")\n",
    "test = h2o.import_file(\"https://s3.amazonaws.com/erin-data/higgs/higgs_test_5k.csv\")"
   ]
  },
  {
   "cell_type": "code",
   "execution_count": 3,
   "metadata": {},
   "outputs": [],
   "source": [
    "# Identify predictors and response\n",
    "x = train.columns\n",
    "y = \"response\"\n",
    "x.remove(y)"
   ]
  },
  {
   "cell_type": "code",
   "execution_count": 4,
   "metadata": {},
   "outputs": [],
   "source": [
    "# For binary classification, response should be a factor\n",
    "train[y] = train[y].asfactor()\n",
    "test[y] = test[y].asfactor()"
   ]
  },
  {
   "cell_type": "code",
   "execution_count": 5,
   "metadata": {},
   "outputs": [
    {
     "data": {
      "text/html": [
       "<table>\n",
       "<thead>\n",
       "<tr><th style=\"text-align: right;\">  response</th><th style=\"text-align: right;\">      x1</th><th style=\"text-align: right;\">       x2</th><th style=\"text-align: right;\">         x3</th><th style=\"text-align: right;\">      x4</th><th style=\"text-align: right;\">       x5</th><th style=\"text-align: right;\">      x6</th><th style=\"text-align: right;\">        x7</th><th style=\"text-align: right;\">        x8</th><th style=\"text-align: right;\">     x9</th><th style=\"text-align: right;\">     x10</th><th style=\"text-align: right;\">      x11</th><th style=\"text-align: right;\">      x12</th><th style=\"text-align: right;\">    x13</th><th style=\"text-align: right;\">     x14</th><th style=\"text-align: right;\">       x15</th><th style=\"text-align: right;\">      x16</th><th style=\"text-align: right;\">    x17</th><th style=\"text-align: right;\">     x18</th><th style=\"text-align: right;\">       x19</th><th style=\"text-align: right;\">        x20</th><th style=\"text-align: right;\">    x21</th><th style=\"text-align: right;\">     x22</th><th style=\"text-align: right;\">     x23</th><th style=\"text-align: right;\">     x24</th><th style=\"text-align: right;\">     x25</th><th style=\"text-align: right;\">     x26</th><th style=\"text-align: right;\">     x27</th><th style=\"text-align: right;\">     x28</th></tr>\n",
       "</thead>\n",
       "<tbody>\n",
       "<tr><td style=\"text-align: right;\">         1</td><td style=\"text-align: right;\">0.869293</td><td style=\"text-align: right;\">-0.635082</td><td style=\"text-align: right;\"> 0.22569   </td><td style=\"text-align: right;\">0.32747 </td><td style=\"text-align: right;\">-0.689993</td><td style=\"text-align: right;\">0.754202</td><td style=\"text-align: right;\">-0.248573 </td><td style=\"text-align: right;\">-1.09206  </td><td style=\"text-align: right;\">0      </td><td style=\"text-align: right;\">1.37499 </td><td style=\"text-align: right;\">-0.653674</td><td style=\"text-align: right;\"> 0.930349</td><td style=\"text-align: right;\">1.10744</td><td style=\"text-align: right;\">1.1389  </td><td style=\"text-align: right;\">-1.5782   </td><td style=\"text-align: right;\">-1.04699 </td><td style=\"text-align: right;\">0      </td><td style=\"text-align: right;\">0.65793 </td><td style=\"text-align: right;\">-0.0104546</td><td style=\"text-align: right;\">-0.0457672 </td><td style=\"text-align: right;\">3.10196</td><td style=\"text-align: right;\">1.35376 </td><td style=\"text-align: right;\">0.979563</td><td style=\"text-align: right;\">0.978076</td><td style=\"text-align: right;\">0.920005</td><td style=\"text-align: right;\">0.721657</td><td style=\"text-align: right;\">0.988751</td><td style=\"text-align: right;\">0.876678</td></tr>\n",
       "<tr><td style=\"text-align: right;\">         1</td><td style=\"text-align: right;\">0.907542</td><td style=\"text-align: right;\"> 0.329147</td><td style=\"text-align: right;\"> 0.359412  </td><td style=\"text-align: right;\">1.49797 </td><td style=\"text-align: right;\">-0.31301 </td><td style=\"text-align: right;\">1.09553 </td><td style=\"text-align: right;\">-0.557525 </td><td style=\"text-align: right;\">-1.58823  </td><td style=\"text-align: right;\">2.17308</td><td style=\"text-align: right;\">0.812581</td><td style=\"text-align: right;\">-0.213642</td><td style=\"text-align: right;\"> 1.27101 </td><td style=\"text-align: right;\">2.21487</td><td style=\"text-align: right;\">0.499994</td><td style=\"text-align: right;\">-1.26143  </td><td style=\"text-align: right;\"> 0.732156</td><td style=\"text-align: right;\">0      </td><td style=\"text-align: right;\">0.398701</td><td style=\"text-align: right;\">-1.13893  </td><td style=\"text-align: right;\">-0.00081911</td><td style=\"text-align: right;\">0      </td><td style=\"text-align: right;\">0.30222 </td><td style=\"text-align: right;\">0.833048</td><td style=\"text-align: right;\">0.9857  </td><td style=\"text-align: right;\">0.978098</td><td style=\"text-align: right;\">0.779732</td><td style=\"text-align: right;\">0.992356</td><td style=\"text-align: right;\">0.798343</td></tr>\n",
       "<tr><td style=\"text-align: right;\">         1</td><td style=\"text-align: right;\">0.798835</td><td style=\"text-align: right;\"> 1.47064 </td><td style=\"text-align: right;\">-1.63597   </td><td style=\"text-align: right;\">0.453773</td><td style=\"text-align: right;\"> 0.425629</td><td style=\"text-align: right;\">1.10487 </td><td style=\"text-align: right;\"> 1.28232  </td><td style=\"text-align: right;\"> 1.38166  </td><td style=\"text-align: right;\">0      </td><td style=\"text-align: right;\">0.851737</td><td style=\"text-align: right;\"> 1.54066 </td><td style=\"text-align: right;\">-0.81969 </td><td style=\"text-align: right;\">2.21487</td><td style=\"text-align: right;\">0.99349 </td><td style=\"text-align: right;\"> 0.35608  </td><td style=\"text-align: right;\">-0.208778</td><td style=\"text-align: right;\">2.54822</td><td style=\"text-align: right;\">1.25695 </td><td style=\"text-align: right;\"> 1.12885  </td><td style=\"text-align: right;\"> 0.900461  </td><td style=\"text-align: right;\">0      </td><td style=\"text-align: right;\">0.909753</td><td style=\"text-align: right;\">1.10833 </td><td style=\"text-align: right;\">0.985692</td><td style=\"text-align: right;\">0.951331</td><td style=\"text-align: right;\">0.803252</td><td style=\"text-align: right;\">0.865924</td><td style=\"text-align: right;\">0.780118</td></tr>\n",
       "<tr><td style=\"text-align: right;\">         0</td><td style=\"text-align: right;\">1.34438 </td><td style=\"text-align: right;\">-0.876626</td><td style=\"text-align: right;\"> 0.935913  </td><td style=\"text-align: right;\">1.99205 </td><td style=\"text-align: right;\"> 0.882454</td><td style=\"text-align: right;\">1.78607 </td><td style=\"text-align: right;\">-1.64678  </td><td style=\"text-align: right;\">-0.942383 </td><td style=\"text-align: right;\">0      </td><td style=\"text-align: right;\">2.42326 </td><td style=\"text-align: right;\">-0.676016</td><td style=\"text-align: right;\"> 0.736159</td><td style=\"text-align: right;\">2.21487</td><td style=\"text-align: right;\">1.29872 </td><td style=\"text-align: right;\">-1.43074  </td><td style=\"text-align: right;\">-0.364658</td><td style=\"text-align: right;\">0      </td><td style=\"text-align: right;\">0.745313</td><td style=\"text-align: right;\">-0.678379 </td><td style=\"text-align: right;\">-1.36036   </td><td style=\"text-align: right;\">0      </td><td style=\"text-align: right;\">0.946652</td><td style=\"text-align: right;\">1.0287  </td><td style=\"text-align: right;\">0.998656</td><td style=\"text-align: right;\">0.728281</td><td style=\"text-align: right;\">0.8692  </td><td style=\"text-align: right;\">1.02674 </td><td style=\"text-align: right;\">0.957904</td></tr>\n",
       "<tr><td style=\"text-align: right;\">         1</td><td style=\"text-align: right;\">1.10501 </td><td style=\"text-align: right;\"> 0.321356</td><td style=\"text-align: right;\"> 1.5224    </td><td style=\"text-align: right;\">0.882808</td><td style=\"text-align: right;\">-1.20535 </td><td style=\"text-align: right;\">0.681466</td><td style=\"text-align: right;\">-1.07046  </td><td style=\"text-align: right;\">-0.921871 </td><td style=\"text-align: right;\">0      </td><td style=\"text-align: right;\">0.800872</td><td style=\"text-align: right;\"> 1.02097 </td><td style=\"text-align: right;\"> 0.971407</td><td style=\"text-align: right;\">2.21487</td><td style=\"text-align: right;\">0.596761</td><td style=\"text-align: right;\">-0.350273 </td><td style=\"text-align: right;\"> 0.631194</td><td style=\"text-align: right;\">0      </td><td style=\"text-align: right;\">0.479999</td><td style=\"text-align: right;\">-0.373566 </td><td style=\"text-align: right;\"> 0.113041  </td><td style=\"text-align: right;\">0      </td><td style=\"text-align: right;\">0.755856</td><td style=\"text-align: right;\">1.36106 </td><td style=\"text-align: right;\">0.98661 </td><td style=\"text-align: right;\">0.838085</td><td style=\"text-align: right;\">1.1333  </td><td style=\"text-align: right;\">0.872245</td><td style=\"text-align: right;\">0.808487</td></tr>\n",
       "<tr><td style=\"text-align: right;\">         0</td><td style=\"text-align: right;\">1.59584 </td><td style=\"text-align: right;\">-0.607811</td><td style=\"text-align: right;\"> 0.00707492</td><td style=\"text-align: right;\">1.81845 </td><td style=\"text-align: right;\">-0.111906</td><td style=\"text-align: right;\">0.84755 </td><td style=\"text-align: right;\">-0.566437 </td><td style=\"text-align: right;\"> 1.58124  </td><td style=\"text-align: right;\">2.17308</td><td style=\"text-align: right;\">0.755421</td><td style=\"text-align: right;\"> 0.64311 </td><td style=\"text-align: right;\"> 1.42637 </td><td style=\"text-align: right;\">0      </td><td style=\"text-align: right;\">0.921661</td><td style=\"text-align: right;\">-1.19043  </td><td style=\"text-align: right;\">-1.61559 </td><td style=\"text-align: right;\">0      </td><td style=\"text-align: right;\">0.651114</td><td style=\"text-align: right;\">-0.654227 </td><td style=\"text-align: right;\">-1.27434   </td><td style=\"text-align: right;\">3.10196</td><td style=\"text-align: right;\">0.823761</td><td style=\"text-align: right;\">0.938191</td><td style=\"text-align: right;\">0.971758</td><td style=\"text-align: right;\">0.789176</td><td style=\"text-align: right;\">0.430553</td><td style=\"text-align: right;\">0.961357</td><td style=\"text-align: right;\">0.957818</td></tr>\n",
       "<tr><td style=\"text-align: right;\">         1</td><td style=\"text-align: right;\">0.409391</td><td style=\"text-align: right;\">-1.88468 </td><td style=\"text-align: right;\">-1.02729   </td><td style=\"text-align: right;\">1.67245 </td><td style=\"text-align: right;\">-1.6046  </td><td style=\"text-align: right;\">1.33801 </td><td style=\"text-align: right;\"> 0.0554274</td><td style=\"text-align: right;\"> 0.0134659</td><td style=\"text-align: right;\">2.17308</td><td style=\"text-align: right;\">0.509783</td><td style=\"text-align: right;\">-1.03834 </td><td style=\"text-align: right;\"> 0.707862</td><td style=\"text-align: right;\">0      </td><td style=\"text-align: right;\">0.746918</td><td style=\"text-align: right;\">-0.358465 </td><td style=\"text-align: right;\">-1.64665 </td><td style=\"text-align: right;\">0      </td><td style=\"text-align: right;\">0.367058</td><td style=\"text-align: right;\"> 0.0694965</td><td style=\"text-align: right;\"> 1.37713   </td><td style=\"text-align: right;\">3.10196</td><td style=\"text-align: right;\">0.869418</td><td style=\"text-align: right;\">1.22208 </td><td style=\"text-align: right;\">1.00063 </td><td style=\"text-align: right;\">0.545045</td><td style=\"text-align: right;\">0.698653</td><td style=\"text-align: right;\">0.977314</td><td style=\"text-align: right;\">0.828786</td></tr>\n",
       "<tr><td style=\"text-align: right;\">         1</td><td style=\"text-align: right;\">0.933895</td><td style=\"text-align: right;\"> 0.62913 </td><td style=\"text-align: right;\"> 0.527535  </td><td style=\"text-align: right;\">0.238033</td><td style=\"text-align: right;\">-0.966569</td><td style=\"text-align: right;\">0.547811</td><td style=\"text-align: right;\">-0.0594392</td><td style=\"text-align: right;\">-1.70687  </td><td style=\"text-align: right;\">2.17308</td><td style=\"text-align: right;\">0.941003</td><td style=\"text-align: right;\">-2.65373 </td><td style=\"text-align: right;\">-0.15722 </td><td style=\"text-align: right;\">0      </td><td style=\"text-align: right;\">1.03037 </td><td style=\"text-align: right;\">-0.175505 </td><td style=\"text-align: right;\"> 0.523021</td><td style=\"text-align: right;\">2.54822</td><td style=\"text-align: right;\">1.37355 </td><td style=\"text-align: right;\"> 1.29125  </td><td style=\"text-align: right;\">-1.46745   </td><td style=\"text-align: right;\">0      </td><td style=\"text-align: right;\">0.901837</td><td style=\"text-align: right;\">1.08367 </td><td style=\"text-align: right;\">0.979696</td><td style=\"text-align: right;\">0.7833  </td><td style=\"text-align: right;\">0.849195</td><td style=\"text-align: right;\">0.894356</td><td style=\"text-align: right;\">0.774879</td></tr>\n",
       "<tr><td style=\"text-align: right;\">         1</td><td style=\"text-align: right;\">1.40514 </td><td style=\"text-align: right;\"> 0.536603</td><td style=\"text-align: right;\"> 0.689554  </td><td style=\"text-align: right;\">1.17957 </td><td style=\"text-align: right;\">-0.110061</td><td style=\"text-align: right;\">3.2024  </td><td style=\"text-align: right;\">-1.52696  </td><td style=\"text-align: right;\">-1.57603  </td><td style=\"text-align: right;\">0      </td><td style=\"text-align: right;\">2.93154 </td><td style=\"text-align: right;\"> 0.567342</td><td style=\"text-align: right;\">-0.130033</td><td style=\"text-align: right;\">2.21487</td><td style=\"text-align: right;\">1.78712 </td><td style=\"text-align: right;\"> 0.899499 </td><td style=\"text-align: right;\"> 0.585151</td><td style=\"text-align: right;\">2.54822</td><td style=\"text-align: right;\">0.401865</td><td style=\"text-align: right;\">-0.151202 </td><td style=\"text-align: right;\"> 1.16349   </td><td style=\"text-align: right;\">0      </td><td style=\"text-align: right;\">1.66707 </td><td style=\"text-align: right;\">4.03927 </td><td style=\"text-align: right;\">1.17583 </td><td style=\"text-align: right;\">1.04535 </td><td style=\"text-align: right;\">1.54297 </td><td style=\"text-align: right;\">3.53483 </td><td style=\"text-align: right;\">2.74075 </td></tr>\n",
       "<tr><td style=\"text-align: right;\">         1</td><td style=\"text-align: right;\">1.17657 </td><td style=\"text-align: right;\"> 0.104161</td><td style=\"text-align: right;\"> 1.397     </td><td style=\"text-align: right;\">0.479721</td><td style=\"text-align: right;\"> 0.265513</td><td style=\"text-align: right;\">1.13556 </td><td style=\"text-align: right;\"> 1.53483  </td><td style=\"text-align: right;\">-0.253291 </td><td style=\"text-align: right;\">0      </td><td style=\"text-align: right;\">1.02725 </td><td style=\"text-align: right;\"> 0.534316</td><td style=\"text-align: right;\"> 1.18002 </td><td style=\"text-align: right;\">0      </td><td style=\"text-align: right;\">2.40566 </td><td style=\"text-align: right;\"> 0.0875568</td><td style=\"text-align: right;\">-0.976534</td><td style=\"text-align: right;\">2.54822</td><td style=\"text-align: right;\">1.25038 </td><td style=\"text-align: right;\"> 0.268541 </td><td style=\"text-align: right;\"> 0.530334  </td><td style=\"text-align: right;\">0      </td><td style=\"text-align: right;\">0.833175</td><td style=\"text-align: right;\">0.773968</td><td style=\"text-align: right;\">0.98575 </td><td style=\"text-align: right;\">1.1037  </td><td style=\"text-align: right;\">0.84914 </td><td style=\"text-align: right;\">0.937104</td><td style=\"text-align: right;\">0.812364</td></tr>\n",
       "</tbody>\n",
       "</table>"
      ]
     },
     "metadata": {},
     "output_type": "display_data"
    },
    {
     "data": {
      "text/plain": [
       "<bound method H2OFrame.columns_by_type of >"
      ]
     },
     "execution_count": 5,
     "metadata": {},
     "output_type": "execute_result"
    }
   ],
   "source": [
    "train.columns_by_type"
   ]
  },
  {
   "cell_type": "code",
   "execution_count": 6,
   "metadata": {},
   "outputs": [],
   "source": [
    "# Number of CV folds (to generate level-one data for stacking)\n",
    "nfolds = 5\n",
    "\n",
    "# There are a few ways to assemble a list of models to stack together:\n",
    "# 1. Train individual models and put them in a list\n",
    "# 2. Train a grid of models\n",
    "# 3. Train several grids of models\n",
    "# Note: All base models must have the same cross-validation folds and\n",
    "# the cross-validated predicted values must be kept."
   ]
  },
  {
   "cell_type": "markdown",
   "metadata": {},
   "source": [
    "### 1. Generate a 2-model ensemble (GBM + RF)"
   ]
  },
  {
   "cell_type": "code",
   "execution_count": 7,
   "metadata": {},
   "outputs": [
    {
     "name": "stdout",
     "output_type": "stream",
     "text": [
      "gbm Model Build progress: |███████████████████████████████████████████████| 100%\n"
     ]
    }
   ],
   "source": [
    "# Train and cross-validate a GBM\n",
    "my_gbm = H2OGradientBoostingEstimator(distribution=\"bernoulli\",\n",
    "                                      ntrees=10,\n",
    "                                      max_depth=3,\n",
    "                                      min_rows=2,\n",
    "                                      learn_rate=0.2,\n",
    "                                      nfolds=nfolds,\n",
    "                                      fold_assignment=\"Modulo\",\n",
    "                                      keep_cross_validation_predictions=True,\n",
    "                                      seed=1)\n",
    "my_gbm.train(x=x, y=y, training_frame=train)"
   ]
  },
  {
   "cell_type": "code",
   "execution_count": 8,
   "metadata": {},
   "outputs": [
    {
     "name": "stdout",
     "output_type": "stream",
     "text": [
      "drf Model Build progress: |███████████████████████████████████████████████| 100%\n"
     ]
    }
   ],
   "source": [
    "# Train and cross-validate a RF\n",
    "my_rf = H2ORandomForestEstimator(ntrees=50,\n",
    "                                 nfolds=nfolds,\n",
    "                                 fold_assignment=\"Modulo\",\n",
    "                                 keep_cross_validation_predictions=True,\n",
    "                                 seed=1)\n",
    "my_rf.train(x=x, y=y, training_frame=train)"
   ]
  },
  {
   "cell_type": "code",
   "execution_count": 9,
   "metadata": {},
   "outputs": [
    {
     "name": "stdout",
     "output_type": "stream",
     "text": [
      "stackedensemble Model Build progress: |███████████████████████████████████| 100%\n"
     ]
    }
   ],
   "source": [
    "# Train a stacked ensemble using the GBM and GLM above\n",
    "ensemble = H2OStackedEnsembleEstimator(model_id=\"my_ensemble_binomial\",\n",
    "                                       base_models=[my_gbm, my_rf])\n",
    "ensemble.train(x=x, y=y, training_frame=train)"
   ]
  },
  {
   "cell_type": "code",
   "execution_count": 10,
   "metadata": {},
   "outputs": [],
   "source": [
    "# Eval ensemble performance on the test data\n",
    "perf_stack_test = ensemble.model_performance(test)"
   ]
  },
  {
   "cell_type": "code",
   "execution_count": 12,
   "metadata": {},
   "outputs": [
    {
     "name": "stdout",
     "output_type": "stream",
     "text": [
      "Best Base-learner Test AUC:  0.7697982150254795\n",
      "Ensemble Test AUC:  0.7735482703283179\n"
     ]
    }
   ],
   "source": [
    "# Compare to base learner performance on the test set\n",
    "perf_gbm_test = my_gbm.model_performance(test)\n",
    "perf_rf_test = my_rf.model_performance(test)\n",
    "baselearner_best_auc_test = max(perf_gbm_test.auc(), perf_rf_test.auc())\n",
    "stack_auc_test = perf_stack_test.auc()\n",
    "print(\"Best Base-learner Test AUC:  {0}\".format(baselearner_best_auc_test))\n",
    "print(\"Ensemble Test AUC:  {0}\".format(stack_auc_test))"
   ]
  },
  {
   "cell_type": "code",
   "execution_count": 19,
   "metadata": {},
   "outputs": [
    {
     "name": "stdout",
     "output_type": "stream",
     "text": [
      "stackedensemble prediction progress: |████████████████████████████████████| 100%\n"
     ]
    }
   ],
   "source": [
    "# Generate predictions on a test set (if neccessary)\n",
    "pred = ensemble.predict(test)"
   ]
  },
  {
   "cell_type": "markdown",
   "metadata": {},
   "source": [
    "### 2. Generate a random grid of models and stack them together"
   ]
  },
  {
   "cell_type": "code",
   "execution_count": 13,
   "metadata": {},
   "outputs": [],
   "source": [
    "# Specify GBM hyperparameters for the grid\n",
    "hyper_params = {\"learn_rate\": [0.01, 0.03],\n",
    "                \"max_depth\": [3, 4, 5, 6, 9],\n",
    "                \"sample_rate\": [0.7, 0.8, 0.9, 1.0],\n",
    "                \"col_sample_rate\": [0.2, 0.3, 0.4, 0.5, 0.6, 0.7, 0.8]}\n",
    "search_criteria = {\"strategy\": \"RandomDiscrete\", \"max_models\": 3, \"seed\": 1}"
   ]
  },
  {
   "cell_type": "code",
   "execution_count": 14,
   "metadata": {},
   "outputs": [
    {
     "name": "stdout",
     "output_type": "stream",
     "text": [
      "gbm Grid Build progress: |████████████████████████████████████████████████| 100%\n"
     ]
    }
   ],
   "source": [
    "# Train the grid\n",
    "grid = H2OGridSearch(model=H2OGradientBoostingEstimator(ntrees=10,\n",
    "                                                        seed=1,\n",
    "                                                        nfolds=nfolds,\n",
    "                                                        fold_assignment=\"Modulo\",\n",
    "                                                        keep_cross_validation_predictions=True),\n",
    "                     hyper_params=hyper_params,\n",
    "                     search_criteria=search_criteria,\n",
    "                     grid_id=\"gbm_grid_binomial\")\n",
    "grid.train(x=x, y=y, training_frame=train)"
   ]
  },
  {
   "cell_type": "code",
   "execution_count": 15,
   "metadata": {},
   "outputs": [
    {
     "name": "stdout",
     "output_type": "stream",
     "text": [
      "stackedensemble Model Build progress: |███████████████████████████████████| 100%\n"
     ]
    }
   ],
   "source": [
    "# Train a stacked ensemble using the GBM grid\n",
    "ensemble = H2OStackedEnsembleEstimator(model_id=\"my_ensemble_gbm_grid_binomial\",\n",
    "                                       base_models=grid.model_ids)\n",
    "ensemble.train(x=x, y=y, training_frame=train)"
   ]
  },
  {
   "cell_type": "code",
   "execution_count": 16,
   "metadata": {},
   "outputs": [],
   "source": [
    "# Eval ensemble performance on the test data\n",
    "perf_stack_test = ensemble.model_performance(test)"
   ]
  },
  {
   "cell_type": "code",
   "execution_count": 17,
   "metadata": {},
   "outputs": [
    {
     "name": "stdout",
     "output_type": "stream",
     "text": [
      "Best Base-learner Test AUC:  0.748146530400473\n",
      "Ensemble Test AUC:  0.7529530106865193\n"
     ]
    }
   ],
   "source": [
    "# Compare to base learner performance on the test set\n",
    "baselearner_best_auc_test = max([h2o.get_model(model).model_performance(test_data=test).auc() for model in grid.model_ids])\n",
    "stack_auc_test = perf_stack_test.auc()\n",
    "print(\"Best Base-learner Test AUC:  {0}\".format(baselearner_best_auc_test))\n",
    "print(\"Ensemble Test AUC:  {0}\".format(stack_auc_test))"
   ]
  },
  {
   "cell_type": "code",
   "execution_count": 18,
   "metadata": {},
   "outputs": [
    {
     "name": "stdout",
     "output_type": "stream",
     "text": [
      "stackedensemble prediction progress: |████████████████████████████████████| 100%\n"
     ]
    }
   ],
   "source": [
    "# Generate predictions on a test set (if neccessary)\n",
    "pred = ensemble.predict(test)"
   ]
  }
 ],
 "metadata": {
  "kernelspec": {
   "display_name": "Python 3",
   "language": "python",
   "name": "python3"
  },
  "language_info": {
   "codemirror_mode": {
    "name": "ipython",
    "version": 3
   },
   "file_extension": ".py",
   "mimetype": "text/x-python",
   "name": "python",
   "nbconvert_exporter": "python",
   "pygments_lexer": "ipython3",
   "version": "3.6.6"
  }
 },
 "nbformat": 4,
 "nbformat_minor": 2
}
