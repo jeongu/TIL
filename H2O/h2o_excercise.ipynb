{
 "cells": [
  {
   "cell_type": "markdown",
   "metadata": {},
   "source": [
    "### import"
   ]
  },
  {
   "cell_type": "code",
   "execution_count": 2,
   "metadata": {
    "scrolled": true
   },
   "outputs": [
    {
     "name": "stderr",
     "output_type": "stream",
     "text": [
      "Loading required package: h2o\n",
      "\n",
      "----------------------------------------------------------------------\n",
      "\n",
      "Your next step is to start H2O:\n",
      "    > h2o.init()\n",
      "\n",
      "For H2O package documentation, ask for help:\n",
      "    > ??h2o\n",
      "\n",
      "After starting H2O, you can use the Web UI at http://localhost:54321\n",
      "For more information visit http://docs.h2o.ai\n",
      "\n",
      "----------------------------------------------------------------------\n",
      "\n",
      "\n",
      "Attaching package: 'h2o'\n",
      "\n",
      "The following objects are masked from 'package:stats':\n",
      "\n",
      "    cor, sd, var\n",
      "\n",
      "The following objects are masked from 'package:base':\n",
      "\n",
      "    %*%, %in%, &&, ||, apply, as.factor, as.numeric, colnames,\n",
      "    colnames<-, ifelse, is.character, is.factor, is.numeric, log,\n",
      "    log10, log1p, log2, round, signif, trunc\n",
      "\n"
     ]
    },
    {
     "name": "stdout",
     "output_type": "stream",
     "text": [
      " Connection successful!\n",
      "\n",
      "R is connected to the H2O cluster: \n",
      "    H2O cluster uptime:         46 minutes 51 seconds \n",
      "    H2O cluster version:        3.10.5.3 \n",
      "    H2O cluster version age:    1 year and 16 days !!! \n",
      "    H2O cluster name:           H2O_started_from_R_user_uan385 \n",
      "    H2O cluster total nodes:    1 \n",
      "    H2O cluster total memory:   7.10 GB \n",
      "    H2O cluster total cores:    4 \n",
      "    H2O cluster allowed cores:  3 \n",
      "    H2O cluster healthy:        TRUE \n",
      "    H2O Connection ip:          localhost \n",
      "    H2O Connection port:        54321 \n",
      "    H2O Connection proxy:       NA \n",
      "    H2O Internal Security:      FALSE \n",
      "    R Version:                  R version 3.4.3 (2017-11-30) \n"
     ]
    },
    {
     "name": "stderr",
     "output_type": "stream",
     "text": [
      "Warning message in h2o.clusterInfo():\n",
      "\"\n",
      "Your H2O cluster version is too old (1 year and 16 days)!\n",
      "Please download and install the latest version from http://h2o.ai/download/\""
     ]
    },
    {
     "name": "stdout",
     "output_type": "stream",
     "text": [
      "\n"
     ]
    }
   ],
   "source": [
    "require(\"h2o\")\n",
    "h2o.init(nthreads = 3, max_mem_size = \"8g\")"
   ]
  },
  {
   "cell_type": "markdown",
   "metadata": {},
   "source": [
    "### 내장 dataset 사용"
   ]
  },
  {
   "cell_type": "code",
   "execution_count": 3,
   "metadata": {},
   "outputs": [
    {
     "name": "stdout",
     "output_type": "stream",
     "text": [
      "  |======================================================================| 100%\n"
     ]
    },
    {
     "data": {
      "text/html": [
       "<table>\n",
       "<thead><tr><th scope=col>key</th></tr></thead>\n",
       "<tbody>\n",
       "\t<tr><td>glm_model                                                                       </td></tr>\n",
       "\t<tr><td>iris_h2o                                                                        </td></tr>\n",
       "\t<tr><td>iris_h2o_imp                                                                    </td></tr>\n",
       "\t<tr><td>modelmetrics_glm_model@4024457045165199856_on_train_iris_h2o@6088677615796984851</td></tr>\n",
       "\t<tr><td>test_iris_h2o                                                                   </td></tr>\n",
       "\t<tr><td>train_iris_h2o                                                                  </td></tr>\n",
       "</tbody>\n",
       "</table>\n"
      ],
      "text/latex": [
       "\\begin{tabular}{r|l}\n",
       " key\\\\\n",
       "\\hline\n",
       "\t glm\\_model                                                                       \\\\\n",
       "\t iris\\_h2o                                                                        \\\\\n",
       "\t iris\\_h2o\\_imp                                                                    \\\\\n",
       "\t modelmetrics\\_glm\\_model@4024457045165199856\\_on\\_train\\_iris\\_h2o@6088677615796984851\\\\\n",
       "\t test\\_iris\\_h2o                                                                   \\\\\n",
       "\t train\\_iris\\_h2o                                                                  \\\\\n",
       "\\end{tabular}\n"
      ],
      "text/markdown": [
       "\n",
       "key | \n",
       "|---|---|---|---|---|---|\n",
       "| glm_model                                                                        | \n",
       "| iris_h2o                                                                         | \n",
       "| iris_h2o_imp                                                                     | \n",
       "| modelmetrics_glm_model@4024457045165199856_on_train_iris_h2o@6088677615796984851 | \n",
       "| test_iris_h2o                                                                    | \n",
       "| train_iris_h2o                                                                   | \n",
       "\n",
       "\n"
      ],
      "text/plain": [
       "  key                                                                             \n",
       "1 glm_model                                                                       \n",
       "2 iris_h2o                                                                        \n",
       "3 iris_h2o_imp                                                                    \n",
       "4 modelmetrics_glm_model@4024457045165199856_on_train_iris_h2o@6088677615796984851\n",
       "5 test_iris_h2o                                                                   \n",
       "6 train_iris_h2o                                                                  "
      ]
     },
     "metadata": {},
     "output_type": "display_data"
    }
   ],
   "source": [
    "data(iris)\n",
    "iris_h2o <- as.h2o(iris, destination_frame = \"iris_h2o\")\n",
    "h2o.ls()"
   ]
  },
  {
   "cell_type": "code",
   "execution_count": 4,
   "metadata": {},
   "outputs": [
    {
     "data": {
      "text/html": [
       "'H2OFrame'"
      ],
      "text/latex": [
       "'H2OFrame'"
      ],
      "text/markdown": [
       "'H2OFrame'"
      ],
      "text/plain": [
       "[1] \"H2OFrame\""
      ]
     },
     "metadata": {},
     "output_type": "display_data"
    }
   ],
   "source": [
    "class(iris_h2o)"
   ]
  },
  {
   "cell_type": "code",
   "execution_count": 5,
   "metadata": {},
   "outputs": [
    {
     "name": "stdout",
     "output_type": "stream",
     "text": [
      "Class 'H2OFrame' <environment: 0x000000000c51cf28> \n",
      " - attr(*, \"op\")= chr \"Parse\"\n",
      " - attr(*, \"id\")= chr \"iris_h2o\"\n",
      " - attr(*, \"eval\")= logi FALSE\n",
      " - attr(*, \"nrow\")= int 150\n",
      " - attr(*, \"ncol\")= int 5\n",
      " - attr(*, \"types\")=List of 5\n",
      "  ..$ : chr \"real\"\n",
      "  ..$ : chr \"real\"\n",
      "  ..$ : chr \"real\"\n",
      "  ..$ : chr \"real\"\n",
      "  ..$ : chr \"enum\"\n",
      " - attr(*, \"data\")='data.frame':\t10 obs. of  5 variables:\n",
      "  ..$ Sepal.Length: num  5.1 4.9 4.7 4.6 5 5.4 4.6 5 4.4 4.9\n",
      "  ..$ Sepal.Width : num  3.5 3 3.2 3.1 3.6 3.9 3.4 3.4 2.9 3.1\n",
      "  ..$ Petal.Length: num  1.4 1.4 1.3 1.5 1.4 1.7 1.4 1.5 1.4 1.5\n",
      "  ..$ Petal.Width : num  0.2 0.2 0.2 0.2 0.2 0.4 0.3 0.2 0.2 0.1\n",
      "  ..$ Species     : Factor w/ 3 levels \"setosa\",\"versicolor\",..: 1 1 1 1 1 1 1 1 1 1\n"
     ]
    }
   ],
   "source": [
    "str(iris_h2o)"
   ]
  },
  {
   "cell_type": "markdown",
   "metadata": {},
   "source": [
    "### csv로 불러오기"
   ]
  },
  {
   "cell_type": "code",
   "execution_count": 6,
   "metadata": {},
   "outputs": [
    {
     "name": "stdout",
     "output_type": "stream",
     "text": [
      "  |======================================================================| 100%\n"
     ]
    },
    {
     "data": {
      "text/html": [
       "<table>\n",
       "<thead><tr><th scope=col>key</th></tr></thead>\n",
       "<tbody>\n",
       "\t<tr><td>glm_model                                                                       </td></tr>\n",
       "\t<tr><td>iris_h2o                                                                        </td></tr>\n",
       "\t<tr><td>iris_h2o_imp                                                                    </td></tr>\n",
       "\t<tr><td>modelmetrics_glm_model@4024457045165199856_on_train_iris_h2o@6088677615796984851</td></tr>\n",
       "\t<tr><td>test_iris_h2o                                                                   </td></tr>\n",
       "\t<tr><td>train_iris_h2o                                                                  </td></tr>\n",
       "</tbody>\n",
       "</table>\n"
      ],
      "text/latex": [
       "\\begin{tabular}{r|l}\n",
       " key\\\\\n",
       "\\hline\n",
       "\t glm\\_model                                                                       \\\\\n",
       "\t iris\\_h2o                                                                        \\\\\n",
       "\t iris\\_h2o\\_imp                                                                    \\\\\n",
       "\t modelmetrics\\_glm\\_model@4024457045165199856\\_on\\_train\\_iris\\_h2o@6088677615796984851\\\\\n",
       "\t test\\_iris\\_h2o                                                                   \\\\\n",
       "\t train\\_iris\\_h2o                                                                  \\\\\n",
       "\\end{tabular}\n"
      ],
      "text/markdown": [
       "\n",
       "key | \n",
       "|---|---|---|---|---|---|\n",
       "| glm_model                                                                        | \n",
       "| iris_h2o                                                                         | \n",
       "| iris_h2o_imp                                                                     | \n",
       "| modelmetrics_glm_model@4024457045165199856_on_train_iris_h2o@6088677615796984851 | \n",
       "| test_iris_h2o                                                                    | \n",
       "| train_iris_h2o                                                                   | \n",
       "\n",
       "\n"
      ],
      "text/plain": [
       "  key                                                                             \n",
       "1 glm_model                                                                       \n",
       "2 iris_h2o                                                                        \n",
       "3 iris_h2o_imp                                                                    \n",
       "4 modelmetrics_glm_model@4024457045165199856_on_train_iris_h2o@6088677615796984851\n",
       "5 test_iris_h2o                                                                   \n",
       "6 train_iris_h2o                                                                  "
      ]
     },
     "metadata": {},
     "output_type": "display_data"
    }
   ],
   "source": [
    "irisPath <- system.file(\"extdata\", \"prostate_folder\", package = \"h2o\")\n",
    "iris_h2o_imp <- h2o.importFile(irisPath, destination_frame = \"iris_h2o_imp\")\n",
    "h2o.ls()"
   ]
  },
  {
   "cell_type": "markdown",
   "metadata": {},
   "source": [
    "### dataset 나누기"
   ]
  },
  {
   "cell_type": "code",
   "execution_count": 9,
   "metadata": {},
   "outputs": [],
   "source": [
    "set.seed(1234)\n",
    "train_idx <- sample(1:nrow(iris), size = 0.7 * nrow(iris), replace = FALSE)\n",
    "train_iris <- iris[train_idx, ]\n",
    "test_iris <- iris[-train_idx, ]"
   ]
  },
  {
   "cell_type": "code",
   "execution_count": 10,
   "metadata": {},
   "outputs": [
    {
     "data": {
      "text/plain": [
       "Species\n",
       "    setosa versicolor  virginica \n",
       " 0.3714286  0.2761905  0.3523810 "
      ]
     },
     "metadata": {},
     "output_type": "display_data"
    }
   ],
   "source": [
    "with(train_iris, prop.table(table(Species)))"
   ]
  },
  {
   "cell_type": "code",
   "execution_count": 11,
   "metadata": {},
   "outputs": [
    {
     "data": {
      "text/plain": [
       "Species\n",
       "    setosa versicolor  virginica \n",
       " 0.2444444  0.4666667  0.2888889 "
      ]
     },
     "metadata": {},
     "output_type": "display_data"
    }
   ],
   "source": [
    "with(test_iris, prop.table(table(Species)))"
   ]
  },
  {
   "cell_type": "code",
   "execution_count": 12,
   "metadata": {},
   "outputs": [
    {
     "name": "stdout",
     "output_type": "stream",
     "text": [
      "  |======================================================================| 100%\n",
      "  |======================================================================| 100%\n"
     ]
    }
   ],
   "source": [
    "train_iris_h2o <- as.h2o(train_iris, \"train_iris_h2o\")\n",
    "test_iris_h2o <- as.h2o(test_iris, \"test_iris_h2o\")\n",
    "target <- \"Species\"\n",
    "features <- names(train_iris)[!names(train_iris) %in% target]"
   ]
  },
  {
   "cell_type": "markdown",
   "metadata": {},
   "source": [
    "### model"
   ]
  },
  {
   "cell_type": "code",
   "execution_count": 13,
   "metadata": {
    "scrolled": true
   },
   "outputs": [
    {
     "name": "stdout",
     "output_type": "stream",
     "text": [
      "  |======================================================================| 100%\n",
      "Model Details:\n",
      "==============\n",
      "\n",
      "H2OMultinomialModel: glm\n",
      "Model Key:  glm_model \n",
      "GLM Model: summary\n",
      "       family        link                                regularization\n",
      "1 multinomial multinomial Elastic Net (alpha = 0.5, lambda = 9.091E-4 )\n",
      "  number_of_predictors_total number_of_active_predictors number_of_iterations\n",
      "1                         15                          11                   27\n",
      "  training_frame\n",
      "1 train_iris_h2o\n",
      "\n",
      "H2OMultinomialMetrics: glm\n",
      "** Reported on training data. **\n",
      "\n",
      "Training Set Metrics: \n",
      "=====================\n",
      "\n",
      "Extract training frame with `h2o.getFrame(\"train_iris_h2o\")`\n",
      "MSE: (Extract with `h2o.mse`) 0.0136285\n",
      "RMSE: (Extract with `h2o.rmse`) 0.1167412\n",
      "Logloss: (Extract with `h2o.logloss`) 0.05376167\n",
      "Mean Per-Class Error: 0.02050326\n",
      "Null Deviance: (Extract with `h2o.nulldeviance`) 229.0628\n",
      "Residual Deviance: (Extract with `h2o.residual_deviance`) 11.28995\n",
      "R^2: (Extract with `h2o.r2`) 0.9811617\n",
      "AIC: (Extract with `h2o.aic`) NaN\n",
      "Confusion Matrix: Extract with `h2o.confusionMatrix(<model>,train = TRUE)`)\n",
      "=========================================================================\n",
      "Confusion Matrix: Row labels: Actual class; Column labels: Predicted class\n",
      "           setosa versicolor virginica  Error      Rate\n",
      "setosa         39          0         0 0.0000 =  0 / 39\n",
      "versicolor      0         28         1 0.0345 =  1 / 29\n",
      "virginica       0          1        36 0.0270 =  1 / 37\n",
      "Totals         39         29        37 0.0190 = 2 / 105\n",
      "\n",
      "Hit Ratio Table: Extract with `h2o.hit_ratio_table(<model>,train = TRUE)`\n",
      "=======================================================================\n",
      "Top-3 Hit Ratios: \n",
      "  k hit_ratio\n",
      "1 1  0.980952\n",
      "2 2  1.000000\n",
      "3 3  1.000000\n",
      "\n",
      "\n",
      "\n",
      "\n",
      "\n",
      "Scoring History: \n",
      "            timestamp   duration iteration negative_log_likelihood objective\n",
      "1 2018-07-16 23:44:25  0.000 sec         0               114.53139   1.09078\n",
      "2 2018-07-16 23:44:25  0.010 sec         1                36.34931   0.35270\n",
      "3 2018-07-16 23:44:25  0.032 sec         2                18.91843   0.19200\n",
      "4 2018-07-16 23:44:25  0.041 sec         3                10.48414   0.11946\n",
      "5 2018-07-16 23:44:25  0.056 sec         4                 7.25499   0.09644\n",
      "\n",
      "---\n",
      "             timestamp   duration iteration negative_log_likelihood objective\n",
      "23 2018-07-16 23:44:26  0.317 sec        22                 5.64806   0.08774\n",
      "24 2018-07-16 23:44:26  0.325 sec        23                 5.64597   0.08773\n",
      "25 2018-07-16 23:44:26  0.330 sec        24                 5.64656   0.08771\n",
      "26 2018-07-16 23:44:26  0.336 sec        25                 5.64613   0.08770\n",
      "27 2018-07-16 23:44:26  0.340 sec        26                 5.64532   0.08769\n",
      "28 2018-07-16 23:44:26  0.347 sec        27                 5.64498   0.08768\n",
      "\n",
      "Variable Importances: (Extract with `h2o.varimp`) \n",
      "=================================================\n",
      "\n",
      "Standardized Coefficient Magnitudes: standardized coefficient magnitudes\n",
      "         names coefficients sign\n",
      "1 Petal.Length    10.224789  POS\n",
      "2  Petal.Width    10.100105  POS\n",
      "3  Sepal.Width     3.374344  POS\n",
      "4 Sepal.Length     2.011965  POS\n"
     ]
    }
   ],
   "source": [
    "glm_model <- h2o.glm(x = features, y = target, training_frame = train_iris_h2o, \n",
    "    model_id = \"glm_model\", family = \"multinomial\")\n",
    "\n",
    "summary(glm_model)"
   ]
  },
  {
   "cell_type": "code",
   "execution_count": 14,
   "metadata": {},
   "outputs": [
    {
     "name": "stdout",
     "output_type": "stream",
     "text": [
      "  |======================================================================| 100%\n"
     ]
    },
    {
     "data": {
      "text/plain": [
       "            Predict\n",
       "Real         setosa versicolor virginica\n",
       "  setosa         11          0         0\n",
       "  versicolor      0         20         1\n",
       "  virginica       0          0        13"
      ]
     },
     "metadata": {},
     "output_type": "display_data"
    }
   ],
   "source": [
    "pred_iris_glm <- as.data.frame(h2o.predict(glm_model, newdata = test_iris_h2o))\n",
    "test_iris$pred_glm <- pred_iris_glm$predict\n",
    "with(test_iris, table(Species, pred_glm, dnn = c(\"Real\", \"Predict\")))"
   ]
  },
  {
   "cell_type": "code",
   "execution_count": 15,
   "metadata": {
    "scrolled": true
   },
   "outputs": [
    {
     "name": "stdout",
     "output_type": "stream",
     "text": [
      "  |======================================================================| 100%\n",
      "Model Details:\n",
      "==============\n",
      "\n",
      "H2OMultinomialModel: drf\n",
      "Model Key:  rf_model \n",
      "Model Summary: \n",
      "  number_of_trees number_of_internal_trees model_size_in_bytes min_depth\n",
      "1             100                      300               47067         1\n",
      "  max_depth mean_depth min_leaves max_leaves mean_leaves\n",
      "1         6    3.10000          2         10     4.81000\n",
      "\n",
      "H2OMultinomialMetrics: drf\n",
      "** Reported on training data. **\n",
      "** Metrics reported on Out-Of-Bag training samples **\n",
      "\n",
      "Training Set Metrics: \n",
      "=====================\n",
      "\n",
      "Extract training frame with `h2o.getFrame(\"train_iris_h2o\")`\n",
      "MSE: (Extract with `h2o.mse`) 0.03387537\n",
      "RMSE: (Extract with `h2o.rmse`) 0.1840526\n",
      "Logloss: (Extract with `h2o.logloss`) 0.432699\n",
      "Mean Per-Class Error: 0.05250078\n",
      "Confusion Matrix: Extract with `h2o.confusionMatrix(<model>,train = TRUE)`)\n",
      "=========================================================================\n",
      "Confusion Matrix: Row labels: Actual class; Column labels: Predicted class\n",
      "           setosa versicolor virginica  Error      Rate\n",
      "setosa         39          0         0 0.0000 =  0 / 39\n",
      "versicolor      0         26         3 0.1034 =  3 / 29\n",
      "virginica       0          2        35 0.0541 =  2 / 37\n",
      "Totals         39         28        38 0.0476 = 5 / 105\n",
      "\n",
      "Hit Ratio Table: Extract with `h2o.hit_ratio_table(<model>,train = TRUE)`\n",
      "=======================================================================\n",
      "Top-3 Hit Ratios: \n",
      "  k hit_ratio\n",
      "1 1  0.952381\n",
      "2 2  1.000000\n",
      "3 3  1.000000\n",
      "\n",
      "\n",
      "\n",
      "\n",
      "\n",
      "Scoring History: \n",
      "            timestamp   duration number_of_trees training_rmse training_logloss\n",
      "1 2018-07-16 23:45:20  0.049 sec               0                               \n",
      "2 2018-07-16 23:45:20  0.235 sec               1       0.00000          0.00000\n",
      "3 2018-07-16 23:45:20  0.270 sec               2       0.19528          1.18255\n",
      "4 2018-07-16 23:45:20  0.285 sec               3       0.22239          1.53999\n",
      "5 2018-07-16 23:45:20  0.299 sec               4       0.23027          1.60864\n",
      "  training_classification_error\n",
      "1                              \n",
      "2                       0.00000\n",
      "3                       0.03390\n",
      "4                       0.04412\n",
      "5                       0.05747\n",
      "\n",
      "---\n",
      "              timestamp   duration number_of_trees training_rmse\n",
      "96  2018-07-16 23:45:22  1.873 sec              95       0.18592\n",
      "97  2018-07-16 23:45:22  1.882 sec              96       0.18534\n",
      "98  2018-07-16 23:45:22  1.889 sec              97       0.18525\n",
      "99  2018-07-16 23:45:22  1.894 sec              98       0.18525\n",
      "100 2018-07-16 23:45:22  1.900 sec              99       0.18459\n",
      "101 2018-07-16 23:45:22  1.908 sec             100       0.18405\n",
      "    training_logloss training_classification_error\n",
      "96           0.43297                       0.04762\n",
      "97           0.43265                       0.04762\n",
      "98           0.43254                       0.04762\n",
      "99           0.43280                       0.04762\n",
      "100          0.43241                       0.04762\n",
      "101          0.43270                       0.04762\n",
      "\n",
      "Variable Importances: (Extract with `h2o.varimp`) \n",
      "=================================================\n",
      "\n",
      "Variable Importances: \n",
      "      variable relative_importance scaled_importance percentage\n",
      "1  Petal.Width         2824.473877          1.000000   0.456585\n",
      "2 Petal.Length         2732.568848          0.967461   0.441728\n",
      "3 Sepal.Length          498.464111          0.176480   0.080578\n",
      "4  Sepal.Width          130.575912          0.046230   0.021108\n"
     ]
    }
   ],
   "source": [
    "rf_model <- h2o.randomForest(x = features, y = target, training_frame = train_iris_h2o, \n",
    "    model_id = \"rf_model\", ntrees = 100)\n",
    "\n",
    "summary(rf_model)"
   ]
  },
  {
   "cell_type": "code",
   "execution_count": 16,
   "metadata": {},
   "outputs": [
    {
     "name": "stdout",
     "output_type": "stream",
     "text": [
      "  |======================================================================| 100%\n"
     ]
    },
    {
     "data": {
      "text/plain": [
       "            Predict\n",
       "Real         setosa versicolor virginica\n",
       "  setosa         11          0         0\n",
       "  versicolor      0         20         1\n",
       "  virginica       0          2        11"
      ]
     },
     "metadata": {},
     "output_type": "display_data"
    }
   ],
   "source": [
    "pred_iris_rf <- as.data.frame(h2o.predict(rf_model, newdata = test_iris_h2o))\n",
    "test_iris$pred_rf <- pred_iris_rf$predict\n",
    "with(test_iris, table(Species, pred_rf, dnn = c(\"Real\", \"Predict\")))"
   ]
  },
  {
   "cell_type": "code",
   "execution_count": 18,
   "metadata": {
    "scrolled": true
   },
   "outputs": [
    {
     "name": "stdout",
     "output_type": "stream",
     "text": [
      "  |======================================================================| 100%\n",
      "Model Details:\n",
      "==============\n",
      "\n",
      "H2OMultinomialModel: gbm\n",
      "Model Key:  gbm_model \n",
      "Model Summary: \n",
      "  number_of_trees number_of_internal_trees model_size_in_bytes min_depth\n",
      "1             100                      300               58374         1\n",
      "  max_depth mean_depth min_leaves max_leaves mean_leaves\n",
      "1         5    4.59667          2          9     7.80000\n",
      "\n",
      "H2OMultinomialMetrics: gbm\n",
      "** Reported on training data. **\n",
      "\n",
      "Training Set Metrics: \n",
      "=====================\n",
      "\n",
      "Extract training frame with `h2o.getFrame(\"train_iris_h2o\")`\n",
      "MSE: (Extract with `h2o.mse`) 8.902443e-07\n",
      "RMSE: (Extract with `h2o.rmse`) 0.0009435276\n",
      "Logloss: (Extract with `h2o.logloss`) 0.0003444433\n",
      "Mean Per-Class Error: 0\n",
      "Confusion Matrix: Extract with `h2o.confusionMatrix(<model>,train = TRUE)`)\n",
      "=========================================================================\n",
      "Confusion Matrix: Row labels: Actual class; Column labels: Predicted class\n",
      "           setosa versicolor virginica  Error      Rate\n",
      "setosa         39          0         0 0.0000 =  0 / 39\n",
      "versicolor      0         29         0 0.0000 =  0 / 29\n",
      "virginica       0          0        37 0.0000 =  0 / 37\n",
      "Totals         39         29        37 0.0000 = 0 / 105\n",
      "\n",
      "Hit Ratio Table: Extract with `h2o.hit_ratio_table(<model>,train = TRUE)`\n",
      "=======================================================================\n",
      "Top-3 Hit Ratios: \n",
      "  k hit_ratio\n",
      "1 1  1.000000\n",
      "2 2  1.000000\n",
      "3 3  1.000000\n",
      "\n",
      "\n",
      "\n",
      "\n",
      "\n",
      "Scoring History: \n",
      "            timestamp   duration number_of_trees training_rmse training_logloss\n",
      "1 2018-07-16 23:46:32  0.001 sec               0       0.66667          1.09861\n",
      "2 2018-07-16 23:46:32  0.040 sec               1       0.60231          0.92244\n",
      "3 2018-07-16 23:46:32  0.045 sec               2       0.54366          0.78539\n",
      "4 2018-07-16 23:46:32  0.053 sec               3       0.49061          0.67573\n",
      "5 2018-07-16 23:46:32  0.066 sec               4       0.44236          0.58478\n",
      "  training_classification_error\n",
      "1                       0.59048\n",
      "2                       0.02857\n",
      "3                       0.02857\n",
      "4                       0.02857\n",
      "5                       0.02857\n",
      "\n",
      "---\n",
      "              timestamp   duration number_of_trees training_rmse\n",
      "96  2018-07-16 23:46:33  0.687 sec              95       0.00119\n",
      "97  2018-07-16 23:46:33  0.693 sec              96       0.00114\n",
      "98  2018-07-16 23:46:33  0.699 sec              97       0.00107\n",
      "99  2018-07-16 23:46:33  0.710 sec              98       0.00104\n",
      "100 2018-07-16 23:46:33  0.721 sec              99       0.00097\n",
      "101 2018-07-16 23:46:33  0.737 sec             100       0.00094\n",
      "    training_logloss training_classification_error\n",
      "96           0.00045                       0.00000\n",
      "97           0.00042                       0.00000\n",
      "98           0.00040                       0.00000\n",
      "99           0.00038                       0.00000\n",
      "100          0.00036                       0.00000\n",
      "101          0.00034                       0.00000\n",
      "\n",
      "Variable Importances: (Extract with `h2o.varimp`) \n",
      "=================================================\n",
      "\n",
      "Variable Importances: \n",
      "      variable relative_importance scaled_importance percentage\n",
      "1  Petal.Width          167.055817          1.000000   0.516978\n",
      "2 Petal.Length          151.639069          0.907715   0.469269\n",
      "3 Sepal.Length            2.636389          0.015781   0.008159\n",
      "4  Sepal.Width            1.807615          0.010820   0.005594\n"
     ]
    }
   ],
   "source": [
    "gbm_model <- h2o.gbm(x = features, y = target, training_frame = train_iris_h2o, \n",
    "    model_id = \"gbm_model\", ntrees = 100)\n",
    "\n",
    "summary(gbm_model)"
   ]
  },
  {
   "cell_type": "code",
   "execution_count": 19,
   "metadata": {},
   "outputs": [
    {
     "name": "stdout",
     "output_type": "stream",
     "text": [
      "  |======================================================================| 100%\n"
     ]
    },
    {
     "data": {
      "text/plain": [
       "            Predict\n",
       "Real         setosa versicolor virginica\n",
       "  setosa         11          0         0\n",
       "  versicolor      0         20         1\n",
       "  virginica       0          1        12"
      ]
     },
     "metadata": {},
     "output_type": "display_data"
    }
   ],
   "source": [
    "pred_iris_gbm <- as.data.frame(h2o.predict(gbm_model, newdata = test_iris_h2o))\n",
    "test_iris$pred_gbm <- pred_iris_gbm$predict\n",
    "with(test_iris, table(Species, pred_gbm, dnn = c(\"Real\", \"Predict\")))"
   ]
  }
 ],
 "metadata": {
  "kernelspec": {
   "display_name": "R",
   "language": "R",
   "name": "ir"
  },
  "language_info": {
   "codemirror_mode": "r",
   "file_extension": ".r",
   "mimetype": "text/x-r-source",
   "name": "R",
   "pygments_lexer": "r",
   "version": "3.4.3"
  }
 },
 "nbformat": 4,
 "nbformat_minor": 2
}
