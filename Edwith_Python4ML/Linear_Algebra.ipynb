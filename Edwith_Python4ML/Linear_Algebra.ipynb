{
 "cells": [
  {
   "cell_type": "markdown",
   "metadata": {},
   "source": [
    "### vector computation"
   ]
  },
  {
   "cell_type": "code",
   "execution_count": 3,
   "metadata": {
    "collapsed": false
   },
   "outputs": [
    {
     "name": "stdout",
     "output_type": "stream",
     "text": [
      "[7, 10]\n"
     ]
    }
   ],
   "source": [
    "# addition\n",
    "u = [2,2]\n",
    "v = [2,3]\n",
    "z = [3,5]\n",
    "\n",
    "result = [sum(value) for value in zip(u, v, z)]\n",
    "print(result)"
   ]
  },
  {
   "cell_type": "code",
   "execution_count": 13,
   "metadata": {
    "collapsed": false
   },
   "outputs": [
    {
     "name": "stdout",
     "output_type": "stream",
     "text": [
      "[7, 10]\n",
      "[-3, -6]\n"
     ]
    }
   ],
   "source": [
    "# subtraction\n",
    "from functools import reduce\n",
    "import operator\n",
    "\n",
    "u = [2,2]\n",
    "v = [2,3]\n",
    "z = [3,5]\n",
    "# u + v + z\n",
    "summation = [reduce(operator.__add__, row) for row in zip(u,v,z)]\n",
    "# u - v - z\n",
    "subtraction = [reduce(operator.__sub__, row) for row in zip(u,v,z)]\n",
    "print(summation)\n",
    "print(subtraction)"
   ]
  },
  {
   "cell_type": "code",
   "execution_count": 5,
   "metadata": {
    "collapsed": false
   },
   "outputs": [
    {
     "name": "stdout",
     "output_type": "stream",
     "text": [
      "[10, 14, 18]\n"
     ]
    }
   ],
   "source": [
    "# scalar multiplication\n",
    "u = [1,2,3]\n",
    "v = [4,5,6]\n",
    "alpha = 2\n",
    "\n",
    "result = [alpha*sum(value) for value in zip(u, v)]\n",
    "print(result)"
   ]
  },
  {
   "cell_type": "markdown",
   "metadata": {},
   "source": [
    "### matrix computation"
   ]
  },
  {
   "cell_type": "code",
   "execution_count": 6,
   "metadata": {
    "collapsed": false
   },
   "outputs": [
    {
     "name": "stdout",
     "output_type": "stream",
     "text": [
      "[[8, 14], [10, 12]]\n"
     ]
    }
   ],
   "source": [
    "# addition\n",
    "matA = [[3,6],[4,5]]\n",
    "matB = [[5,8],[6,7]]\n",
    "result = [[sum(row) for row in zip(*value)] for value in zip(matA, matB)]\n",
    "print(result)"
   ]
  },
  {
   "cell_type": "code",
   "execution_count": 7,
   "metadata": {
    "collapsed": false
   },
   "outputs": [
    {
     "name": "stdout",
     "output_type": "stream",
     "text": [
      "[[6, 12], [8, 10]]\n"
     ]
    }
   ],
   "source": [
    "# subtraction\n",
    "matA = [[3,6],[4,5]]\n",
    "alpha = 2\n",
    "result = [[alpha*element for element in row] for row in matA]\n",
    "print(result)"
   ]
  },
  {
   "cell_type": "code",
   "execution_count": 14,
   "metadata": {
    "collapsed": false
   },
   "outputs": [
    {
     "name": "stdout",
     "output_type": "stream",
     "text": [
      "[[1, 4], [2, 5], [3, 6]]\n"
     ]
    }
   ],
   "source": [
    "# transpose\n",
    "matA = [[1,2,3],[4,5,6]]\n",
    "result = [[element for element in col] for col in zip(*matA)]\n",
    "print(result)"
   ]
  },
  {
   "cell_type": "code",
   "execution_count": 16,
   "metadata": {
    "collapsed": false
   },
   "outputs": [
    {
     "name": "stdout",
     "output_type": "stream",
     "text": [
      "[[14, 32], [32, 77]]\n"
     ]
    }
   ],
   "source": [
    "# production\n",
    "matA = [[1,2,3],[4,5,6]]\n",
    "matB = [[1,4],[2,5],[3,6]]\n",
    "result = [[sum(a*b for a, b in zip(rowA, colB)) for colB in zip(*matB)] for rowA in matA]\n",
    "print(result)"
   ]
  },
  {
   "cell_type": "code",
   "execution_count": null,
   "metadata": {
    "collapsed": true
   },
   "outputs": [],
   "source": []
  },
  {
   "cell_type": "code",
   "execution_count": null,
   "metadata": {
    "collapsed": true
   },
   "outputs": [],
   "source": []
  }
 ],
 "metadata": {
  "kernelspec": {
   "display_name": "Python 3",
   "language": "python",
   "name": "python3"
  },
  "language_info": {
   "codemirror_mode": {
    "name": "ipython",
    "version": 3
   },
   "file_extension": ".py",
   "mimetype": "text/x-python",
   "name": "python",
   "nbconvert_exporter": "python",
   "pygments_lexer": "ipython3",
   "version": "3.6.0"
  }
 },
 "nbformat": 4,
 "nbformat_minor": 2
}
